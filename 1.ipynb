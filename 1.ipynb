{
 "cells": [
  {
   "cell_type": "code",
   "execution_count": null,
   "metadata": {},
   "outputs": [],
   "source": [
    "m ,n = 3, 3\n",
    "counter = 0\n",
    "for i in range(1, m + 1):\n",
    "    for j in range(1, n + 1):\n",
    "        counter += 1\n",
    "        print(counter , i, j)\n",
    "#1"
   ]
  },
  {
   "cell_type": "code",
   "execution_count": null,
   "metadata": {},
   "outputs": [],
   "source": [
    "# tổng từ 1 đến n\n",
    "\n",
    "n = 5\n",
    "counter = 0\n",
    "for i in range(1, n + 1):\n",
    "    for j in range(1, i + 1):\n",
    "        counter += 1\n",
    "\n",
    "print(counter)"
   ]
  },
  {
   "cell_type": "code",
   "execution_count": null,
   "metadata": {},
   "outputs": [],
   "source": [
    "#mã 3\n",
    "from sympy import *\n",
    "n, i = symbols('n i')\n",
    "Sum(i, (i, 1, n)).doit().simplify()"
   ]
  },
  {
   "cell_type": "code",
   "execution_count": null,
   "metadata": {},
   "outputs": [],
   "source": [
    "A = [[ 2, 0, -1], [ 1, 3, -2]]\n",
    "B = [[ 0, -1, 1, 0], \n",
    "     [ 2, 3, -1, 4],\n",
    "     [-3, 0, -2, 1]]"
   ]
  },
  {
   "cell_type": "code",
   "execution_count": null,
   "metadata": {},
   "outputs": [],
   "source": [
    "def matrix_mul(A, B):\n",
    "    m, n = len(A), len(B)\n",
    "    p = len(B[0])\n",
    "    C = [[0 for j in range(p)] for i in range(m)]\n",
    "\n",
    "    for i in range(m):\n",
    "        for j in range(p):\n",
    "            for k in range(n):\n",
    "                C[i][j] += A[i][k] * B [k][j]\n",
    "    return C"
   ]
  },
  {
   "cell_type": "code",
   "execution_count": null,
   "metadata": {},
   "outputs": [],
   "source": [
    "#mã 6\n",
    "import numpy as np\n",
    "A = [[ 2, 0, -1], [ 1, 3, -2]]\n",
    "B = [[ 0, -1, 1, 0], \n",
    "     [ 2, 3, -1, 4],\n",
    "     [-3, 0, -2, 1]]\n",
    "\n",
    "np.dot(A, B)"
   ]
  },
  {
   "cell_type": "code",
   "execution_count": null,
   "metadata": {},
   "outputs": [],
   "source": [
    "def BubbleSort(x):\n",
    "    n = len(x)\n",
    "    for i in range(n - 1):\n",
    "        for j in range(n - 1, i, -1):\n",
    "            if (x[j] < x[j - 1]):\n",
    "                x[j - 1], x[j] = x[j], x[j - 1]\n",
    "    return x"
   ]
  },
  {
   "cell_type": "code",
   "execution_count": null,
   "metadata": {},
   "outputs": [],
   "source": [
    "#tích từ 1 đến n\n",
    "def factorial(n):\n",
    "    p = 1\n",
    "    for i in range(1, n + 1):\n",
    "        p *= i\n",
    "    return p"
   ]
  },
  {
   "cell_type": "code",
   "execution_count": null,
   "metadata": {},
   "outputs": [],
   "source": [
    "#Mã 9 giai thừa\n",
    "def factorial(n):\n",
    "    if (n == 0): return 1\n",
    "    return n * factorial(n - 1)"
   ]
  },
  {
   "cell_type": "code",
   "execution_count": null,
   "metadata": {},
   "outputs": [],
   "source": [
    "from sympy import *\n",
    "factorial(3)"
   ]
  },
  {
   "cell_type": "code",
   "execution_count": 1,
   "metadata": {},
   "outputs": [],
   "source": [
    "#Mã 11 hoán vị\n",
    "def permutations(a):\n",
    "    n = len(a)\n",
    "    if(n == 1) : return [a]\n",
    "\n",
    "    P = []\n",
    "    for i in range(n):\n",
    "        b = a.copy()\n",
    "        x = b.pop(i)\n",
    "        for p in permutations(b):\n",
    "            p = [x] + p\n",
    "            P.append(p)\n",
    "    return P\n",
    "\n",
    "A =(permutations([\"a\", \"b\", \"c\", \"d\",\"e\"]))\n",
    "A[9]"
   ]
  },
  {
   "cell_type": "code",
   "execution_count": null,
   "metadata": {},
   "outputs": [],
   "source": [
    "import itertools\n",
    "list( itertools.permutations([\"1\", \"2\", \"3\"]))"
   ]
  },
  {
   "cell_type": "code",
   "execution_count": null,
   "metadata": {},
   "outputs": [],
   "source": [
    "#số nhị phân\n",
    "def bin_strs(n):\n",
    "    if (n == 1) : return [\"0\", \"1\"]\n",
    "\n",
    "    A = []\n",
    "    for f in [\"0\", \"1\"]:\n",
    "        for s in bin_strs(n - 1):\n",
    "            A.append(f + s)\n",
    "    return A\n",
    "\n",
    "bin_strs(7)"
   ]
  },
  {
   "cell_type": "code",
   "execution_count": null,
   "metadata": {},
   "outputs": [],
   "source": [
    "import itertools\n",
    "list( itertools.product([\"0\", \"1\"], repeat = 3))"
   ]
  },
  {
   "cell_type": "code",
   "execution_count": null,
   "metadata": {},
   "outputs": [],
   "source": [
    "#chỉnh hợp\n",
    "def P(n ,r):\n",
    "    p = 1\n",
    "    for i in range(r):\n",
    "        p *= n - i\n",
    "    return p"
   ]
  },
  {
   "cell_type": "code",
   "execution_count": null,
   "metadata": {},
   "outputs": [],
   "source": [
    "from sympy import *\n",
    "n, r = 8, 5\n",
    "factorial(n) / factorial(n - r)"
   ]
  },
  {
   "cell_type": "code",
   "execution_count": null,
   "metadata": {},
   "outputs": [],
   "source": [
    "#mã 17 chỉnh hợp\n",
    "def permutations(a, r):\n",
    "    if (r == 1) : return [[i] for i in a]\n",
    "     \n",
    "    P = []\n",
    "    n =  len(a)\n",
    "    for i in range(n):\n",
    "        b = a.copy()\n",
    "        x = b.pop(i)\n",
    "        for p in permutations(b, r - 1):\n",
    "            p = [x] + p\n",
    "            P.append(p)\n",
    "    return P\n",
    "\n",
    "A = permutations(['a','b','c','d','e'], 3)\n",
    "A[19]"
   ]
  },
  {
   "cell_type": "code",
   "execution_count": null,
   "metadata": {},
   "outputs": [],
   "source": [
    "import itertools\n",
    "list( itertools.permutations([1, 2, 3 ,4], 3))"
   ]
  },
  {
   "cell_type": "code",
   "execution_count": null,
   "metadata": {},
   "outputs": [],
   "source": [
    "#mã 19 tổ hợp\n",
    "from sympy import *\n",
    "binomial( 10, 4)"
   ]
  },
  {
   "cell_type": "code",
   "execution_count": null,
   "metadata": {},
   "outputs": [],
   "source": [
    "#Mã 20 tổ hợp\n",
    "def binomial (n, r) :\n",
    "    p = 1\n",
    "    for i in range(r) :\n",
    "        p = p * (n - i) // (i + 1)\n",
    "    return p\n",
    "binomial( 10 , 4)"
   ]
  },
  {
   "cell_type": "code",
   "execution_count": null,
   "metadata": {},
   "outputs": [],
   "source": [
    "#ma 21 tổ hợp\n",
    "def combinations(a, r):\n",
    "    if r  == 1:\n",
    "        return [[i] for i in a]\n",
    "    n = len(a)\n",
    "    if r == n:\n",
    "        return [a]\n",
    "    C = []\n",
    "    for c in combinations(a[1:], r - 1):\n",
    "        c = [a[0]] +c\n",
    "        C.append(c)\n",
    "    for c in combinations(a[1:], r):\n",
    "        C.append(c)\n",
    "    return C\n",
    "combinations([1, 2, 3, 4, 5], 3)"
   ]
  },
  {
   "cell_type": "code",
   "execution_count": null,
   "metadata": {},
   "outputs": [],
   "source": [
    "#mã 22 tổ hợp\n",
    "import itertools\n",
    "list (itertools.combinations ([1, 2, 3, 4, 5], 3) )"
   ]
  },
  {
   "cell_type": "code",
   "execution_count": null,
   "metadata": {},
   "outputs": [],
   "source": [
    "#mã 23 khai triển nhị thức\n",
    "from sympy import *\n",
    "x, y = symbols ('x y')\n",
    "((x + y)**2).expand()"
   ]
  },
  {
   "cell_type": "code",
   "execution_count": null,
   "metadata": {},
   "outputs": [],
   "source": [
    "#mã 24 tổ hợp\n",
    "def binomial (n, r):\n",
    "    if r == 0 or r == n:\n",
    "        return 1\n",
    "    \n",
    "    return binomial (n-1, -1) + binomial (n-1, r)\n",
    "\n",
    "binomial (10,4)"
   ]
  },
  {
   "cell_type": "code",
   "execution_count": null,
   "metadata": {},
   "outputs": [],
   "source": [
    "def binomial (n,r): \n",
    "    a = [1] \n",
    "    for i in range (1, n + 1) :\n",
    "        for j in range(i-1, 0, -1):\n",
    "            a[j] += a[j-1]\n",
    "        a.append (1)\n",
    "    return a [r]\n",
    "\n",
    "binomial (10, 4)"
   ]
  },
  {
   "cell_type": "code",
   "execution_count": null,
   "metadata": {},
   "outputs": [],
   "source": [
    "#mã 26 tổ hợp lặp\n",
    "def permutations_with_replacement (a, n):\n",
    "    r = len(a)\n",
    "    if sum (n) == 0:\n",
    "        return [[]]\n",
    "    P = []\n",
    "    for i in range(r):\n",
    "        if n [i] > 0:\n",
    "            n_ = n.copy()\n",
    "            n_[i] -= 1\n",
    "            for p in permutations_with_replacement (a, n_):\n",
    "                p = [a[i]] + p\n",
    "                P.append(p)\n",
    "    return P\n",
    "\n",
    "permutations_with_replacement (['A', 'B', 'L'], [3, 2, 3])\n",
    "A = permutations_with_replacement (['A', 'B', 'L'], [3, 2, 3])\n",
    "A[12]\n"
   ]
  },
  {
   "cell_type": "code",
   "execution_count": null,
   "metadata": {},
   "outputs": [],
   "source": [
    "#mã 27 catalan walk\n",
    "def walks (a, b, x, y):\n",
    "    if a == C:\n",
    "        return ['U' * (y-b)]\n",
    "    if b == d:\n",
    "        return ['R' * (x-a)]\n",
    "    W = []\n",
    "    for w in walks (a+1, b, x, y): \n",
    "        W.append('R' + w)\n",
    "    for w in walks (a, b+1, x, y): \n",
    "        W.append('U' + w)\n",
    "    return W"
   ]
  },
  {
   "cell_type": "code",
   "execution_count": null,
   "metadata": {},
   "outputs": [],
   "source": [
    "#mã 28 số mũ của 1 tập\n",
    "from sympy import *\n",
    "x, y, z = symbols ('x y z') \n",
    "( (x + y + z) ** 7 ) .expand()\n",
    "((x + y + z)**7).expand().coeff (x * y**5 *z)\n",
    "a, b, c = symbols('a b c')\n",
    "expr = (a - 2*b + 3*c + 5)**10\n",
    "expr.expand().coeff (a**4 * b* c**3)"
   ]
  },
  {
   "cell_type": "code",
   "execution_count": null,
   "metadata": {},
   "outputs": [],
   "source": [
    "import itertools\n",
    "list(itertools.combinations_with_replacement (['A', 'B', 'C'], 4))"
   ]
  },
  {
   "cell_type": "code",
   "execution_count": null,
   "metadata": {},
   "outputs": [],
   "source": [
    "#Mã 30\n",
    "def solutions (n, r):\n",
    "    if n == 1:\n",
    "        return [[r]]\n",
    "    S = []\n",
    "    for i in range(r+1):\n",
    "        for s in solutions (n-1, r-i):\n",
    "            s = [i] + s\n",
    "            S.append(s)\n",
    "    return S\n",
    "solutions (3, 4)"
   ]
  },
  {
   "cell_type": "code",
   "execution_count": null,
   "metadata": {},
   "outputs": [],
   "source": [
    "#31 tổng từ 0 đến 9 của r củabinomial\n",
    "from sympy import *\n",
    "r = symbols ('r') \n",
    "Sum (binomial (6+r-1, r), (r, 0, 9)). doit()"
   ]
  },
  {
   "cell_type": "code",
   "execution_count": null,
   "metadata": {},
   "outputs": [],
   "source": [
    "#mã 32 tập các nghiệm lớn hơn 0\n",
    "def summands (n):\n",
    "    if n == 1:\n",
    "        return [[1]]\n",
    "    S = []\n",
    "    for i in range (1, n):\n",
    "        for s in summands(n-i):\n",
    "            s = [i] + s\n",
    "            S.append(s)\n",
    "    S.append([n])\n",
    "    return S\n",
    "summands(3)"
   ]
  },
  {
   "cell_type": "code",
   "execution_count": null,
   "metadata": {},
   "outputs": [],
   "source": [
    "def compare(a, b):\n",
    "    m, n = len(a), len(b)\n",
    "    i = 0\n",
    "    while i<m and i<n and a[i] == b[i]:\n",
    "        i += 1\n",
    "    if i == m == n:\n",
    "        return('=')\n",
    "    if i == m <n:\n",
    "        return('<')\n",
    "    if i == n <m:\n",
    "        return('>')\n",
    "    if i<m and i < n:\n",
    "        if a[i] < b[i]:\n",
    "            return('<')\n",
    "        else:\n",
    "            return('>')\n",
    "    \n",
    "compare ([4, 1, 2], [4, 1, 2, 3])\n",
    "compare ([3, 1, 4], [3, 1, 2, 5])"
   ]
  },
  {
   "cell_type": "code",
   "execution_count": null,
   "metadata": {},
   "outputs": [],
   "source": [
    "#34 tìm hoán vị kế tiếp\n",
    "def next_permutations (a):\n",
    "    n= len(a)\n",
    "    k = n - 1 \n",
    "    while k >= 1 and a [k-1] > a[k]: \n",
    "        k -= 1\n",
    "    if k == 0:\n",
    "        return None\n",
    "    i=n-1\n",
    "    while a[i] < a[k-1]: \n",
    "        i -= 1 \n",
    "        a[k-1], a[i] = a[i], a[k-1]\n",
    "        b = a [k:]\n",
    "        b.reverse()\n",
    "        return a[:k]+b\n",
    "next_permutations([3,6,2,5,4,1])"
   ]
  },
  {
   "cell_type": "code",
   "execution_count": null,
   "metadata": {},
   "outputs": [],
   "source": [
    "#35 tổ hợp kế tiếp\n",
    "def next_combinations (n, a):\n",
    "    r = len(a)\n",
    "    i= r - 1\n",
    "    while i >= 0 and a[i] == n - r + (i + 1):\n",
    "        i -= 1\n",
    "    if i == -1:\n",
    "        return None\n",
    "    return a[:i] + [a[i] + j for j in range (1, r- i + 1)]\n",
    "\n",
    "next_combinations(6,[1,2,5,6])"
   ]
  },
  {
   "cell_type": "code",
   "execution_count": null,
   "metadata": {},
   "outputs": [],
   "source": [
    "def next_bin_str(a):\n",
    "    n = len(a)\n",
    "    i = n - 1\n",
    "    while i >=0 and a[i] == 1:\n",
    "        i = 1\n",
    "    if i == -1:\n",
    "        return None\n",
    "    for j in range(i, n):\n",
    "        a[j] = 1 -a[j]\n",
    "    return a\n",
    "\n",
    "a = [1,0,0,0, 1, 0, 0, 1, 1, 1]\n",
    "next_bin_str(a)"
   ]
  },
  {
   "cell_type": "code",
   "execution_count": null,
   "metadata": {},
   "outputs": [],
   "source": [
    "def catalan_walks(a, b, n):\n",
    "    if a == n:\n",
    "        return ['U' * (n-b)]\n",
    "    W = []\n",
    "    if a==b:\n",
    "        for w in catalan_walks (a+1, b, n):            \n",
    "            w = 'R' + w\n",
    "            W.append(w)\n",
    "    if a> b:\n",
    "        for w in catalan_walks (a+1, b, n): \n",
    "            w = 'R' + w \n",
    "            W.append(w)\n",
    "        for w in catalan_walks (a, b+1, n): \n",
    "            w = 'U'+w \n",
    "            W.append(w)\n",
    "    return W\n",
    "catalan_walks (0, 0, 3)"
   ]
  },
  {
   "cell_type": "code",
   "execution_count": null,
   "metadata": {},
   "outputs": [],
   "source": [
    "#38  tính số catalan thứ n\n",
    "from sympy import *\n",
    "[binomial (2*n, n) / (n+1) for n in range (11)]"
   ]
  },
  {
   "cell_type": "code",
   "execution_count": null,
   "metadata": {},
   "outputs": [],
   "source": [
    "#39 bảng chân lý\n",
    "def binary_arrays(n):\n",
    "    if n == 1:\n",
    "        return [[True], [False]]\n",
    "    A = []\n",
    "    for a in binary_arrays(n-1): \n",
    "        a = [True] + a \n",
    "        A.append(a)\n",
    "    for a in binary_arrays(n-1): \n",
    "        a = [False] + a \n",
    "        A.append(a)\n",
    "    return A\n",
    "\n",
    "binary_arrays (2)\n",
    "\n",
    "\n",
    "from sympy import *\n",
    "\n",
    "p, q, r = symbols ('p q r')\n",
    "P = p >> (~q & r) | False\n",
    "for p_, q_, r_ in binary_arrays (3): print(p, q, r, P.subs({p: p_, q: q_, r: r_}))"
   ]
  },
  {
   "cell_type": "code",
   "execution_count": null,
   "metadata": {},
   "outputs": [],
   "source": [
    "#Mã 40 bảng chân lý\n",
    "import ttg \n",
    "ttg. Truths(\n",
    "['p', 'q', 'r'],\n",
    "['p => (q and r) or False']\n",
    ").as_pandas ()"
   ]
  },
  {
   "cell_type": "code",
   "execution_count": null,
   "metadata": {},
   "outputs": [],
   "source": [
    "#41 rút gọn mệnh đề logic\n",
    "from sympy import *\n",
    "p, q, r, s, t, u = symbols('p q r s t u')\n",
    "P = (p >> q) & (q >> r & s) & (~r | t | u) & (p & t)\n",
    "P.simplify()"
   ]
  },
  {
   "cell_type": "code",
   "execution_count": null,
   "metadata": {},
   "outputs": [],
   "source": [
    "def is_prime(n): \n",
    "    for k in range(2, n): \n",
    "        if n % k == 0:\n",
    "            return False\n",
    "    return True\n",
    "is_prime (7)"
   ]
  },
  {
   "cell_type": "code",
   "execution_count": null,
   "metadata": {},
   "outputs": [],
   "source": [
    "def is_composite (n): \n",
    "    for k in range(2, n):\n",
    "        if n % k == 0:\n",
    "            return True\n",
    "    return False\n",
    "is_composite (7)"
   ]
  },
  {
   "cell_type": "code",
   "execution_count": null,
   "metadata": {},
   "outputs": [],
   "source": [
    "#ma 44 tập con\n",
    "def power_set(a: list):\n",
    "    if len(a) == 0:\n",
    "        return [[]]\n",
    "    P = [[]]\n",
    "    for s in power_set (a [1:]): \n",
    "        s = [a [0]] + s\n",
    "        P.append(s)\n",
    "    for s in power_set (a [1:]) [1:]: \n",
    "        P.append(s)\n",
    "    return P"
   ]
  },
  {
   "cell_type": "code",
   "execution_count": null,
   "metadata": {},
   "outputs": [],
   "source": [
    "#45 rút gọn\n",
    "from sympy import *\n",
    "n, i = symbols ('n i')\n",
    "Sum(i**2, (i, 1, n)).doit().factor()\n",
    "(n*(n+1)*(2*n+1)/6+ (n+1)**2). factor()"
   ]
  },
  {
   "cell_type": "code",
   "execution_count": null,
   "metadata": {},
   "outputs": [],
   "source": [
    "#46\n",
    "for n in range (1, 6): \n",
    "    a = [2*i - 1 for i in range (1, n+1)] \n",
    "    print(a, sum (a))"
   ]
  },
  {
   "cell_type": "code",
   "execution_count": null,
   "metadata": {},
   "outputs": [],
   "source": [
    "count = 0\n",
    "n = 1\n",
    "while count <= 3:\n",
    "    print(n, 4*n , n**2 - 7)\n",
    "    n += 1\n",
    "    if 4*n< n**2 -7:\n",
    "        count +=1\n",
    "count\n"
   ]
  },
  {
   "cell_type": "code",
   "execution_count": null,
   "metadata": {},
   "outputs": [],
   "source": [
    "#48 các nghiệm lớn hơn 0\n",
    "def summands(n):\n",
    "    if n == 1:\n",
    "        return [[1]]\n",
    "    L = []\n",
    "    for x in summands(n-1):\n",
    "        y = x.copy()\n",
    "        x.append(1)\n",
    "        L.append(x)\n",
    "        y[-1] += 1\n",
    "        L.append(y)\n",
    "    return L\n"
   ]
  },
  {
   "cell_type": "code",
   "execution_count": null,
   "metadata": {},
   "outputs": [],
   "source": [
    "from sympy import*\n",
    "gcd(287, 91)"
   ]
  },
  {
   "cell_type": "code",
   "execution_count": null,
   "metadata": {},
   "outputs": [],
   "source": [
    "#mã 50\n",
    "def gcd( a, b):\n",
    "    while b!=0:\n",
    "        r = a % b\n",
    "        a = b\n",
    "        b = r\n",
    "    return a\n",
    "gcd(287, 91)"
   ]
  },
  {
   "cell_type": "code",
   "execution_count": null,
   "metadata": {},
   "outputs": [],
   "source": [
    "from sympy import *\n",
    "gcdex(287, 291)"
   ]
  },
  {
   "cell_type": "code",
   "execution_count": null,
   "metadata": {},
   "outputs": [],
   "source": [
    "#52 khai triển euclide\n",
    "def gcdex(a, b):\n",
    "    x0, y0 = 1, 0\n",
    "    x1, y1 = 0, 1\n",
    "    while b!= 0:\n",
    "        q = a // b\n",
    "        a, b = b, a % b\n",
    "        x = x0 - x1 * q\n",
    "        y = y0 - y1 * q\n",
    "        x0, y0 = x1, y1\n",
    "        x1, y1 = x, y\n",
    "    return x0, y0, a\n",
    "gcdex (287, 291)"
   ]
  },
  {
   "cell_type": "code",
   "execution_count": null,
   "metadata": {},
   "outputs": [],
   "source": [
    "#53 bội chung nhỏ nhất\n",
    "from sympy import *\n",
    "lcm( 456, 168)"
   ]
  },
  {
   "cell_type": "code",
   "execution_count": null,
   "metadata": {},
   "outputs": [],
   "source": [
    "#54 phân tích thừa số ng tố\n",
    "from sympy import *\n",
    "factorint (980220)"
   ]
  },
  {
   "cell_type": "code",
   "execution_count": null,
   "metadata": {},
   "outputs": [],
   "source": [
    "def factorint (n):\n",
    "    i = 2\n",
    "    f = {}\n",
    "    while n > 1:\n",
    "        while n % i != 0:\n",
    "            i += 1\n",
    "        e = 0\n",
    "        while n % i == 0:\n",
    "            n //= i\n",
    "            e += 1\n",
    "        f[i] = e\n",
    "    return f\n",
    "factorint (980220)"
   ]
  },
  {
   "cell_type": "code",
   "execution_count": null,
   "metadata": {},
   "outputs": [],
   "source": [
    "#56 chuyển từ hệ cơ số b sang hệ cơ số 10\n",
    "a = [1, 7, 0, 0, 3]\n",
    "b = 8\n",
    "n = 0\n",
    "k = len(a)\n",
    "for i in range (k- 1, -1 ,-1):\n",
    "    n = n * b + a[i]\n",
    "n"
   ]
  },
  {
   "cell_type": "code",
   "execution_count": null,
   "metadata": {},
   "outputs": [],
   "source": [
    "#57 chuyển từ hệ 10 sang hệ b\n",
    "n, b = 6137 , 8\n",
    "a = []\n",
    "while n != 0:\n",
    "    r = n%b\n",
    "    a.append(r)\n",
    "    n //=b\n",
    "a"
   ]
  },
  {
   "cell_type": "code",
   "execution_count": null,
   "metadata": {},
   "outputs": [],
   "source": [
    "#58 cộng trong hệ cơ số\n",
    "a = [6, 4, 2, 7]\n",
    "b = [5, 3, 7, 4]\n",
    "base = 8\n",
    "\n",
    "k = len(a)\n",
    "r = 0\n",
    "s = [0] * (k+1)\n",
    "for i in range(k):\n",
    "    t = a[i] + b[i] + r\n",
    "    s[i] = t % base\n",
    "    r = t // base\n",
    "s[k] = r\n",
    "\n",
    "s"
   ]
  },
  {
   "cell_type": "code",
   "execution_count": null,
   "metadata": {},
   "outputs": [],
   "source": [
    "#59 nhân 2 số nguyên trong hệ cơ số\n",
    "a = [2, 4, 3]\n",
    "b = [3, 2, 1, 4]\n",
    "base = 5\n",
    "\n",
    "k = len(a)\n",
    "l = len(b)\n",
    "\n",
    "s = [0] * (k+l)\n",
    "for i in range(l):\n",
    "    r= R = 0\n",
    "    for j in range(k):\n",
    "        t = a[j] * b[i] + r\n",
    "        p = t % base\n",
    "        r = t // base\n",
    "        t = s[i+j] + p + R\n",
    "        s[i+j] = t % base\n",
    "        R = t//base\n",
    "    s[k+i] = r + R\n",
    "    \n",
    "s"
   ]
  },
  {
   "cell_type": "code",
   "execution_count": null,
   "metadata": {},
   "outputs": [],
   "source": [
    "#ma60\n",
    "from sympy import *\n",
    "floor (3.8)\n",
    "ceiling (3.7)"
   ]
  },
  {
   "cell_type": "code",
   "execution_count": null,
   "metadata": {},
   "outputs": [],
   "source": [
    "#61 lũy thừa nhị phân\n",
    "def luy_thua(a, n):\n",
    "    x = 1\n",
    "    while n != 0:\n",
    "        if n % 2 ==1:\n",
    "            x = x * a\n",
    "        a = a *a\n",
    "        n = n // 2\n",
    "    return x\n",
    "luy_thua(2, 2)"
   ]
  },
  {
   "cell_type": "code",
   "execution_count": null,
   "metadata": {},
   "outputs": [],
   "source": [
    "#62 nhân 2 ma trận và chuyển về ma trận nhị phân\n",
    "import numpy as np\n",
    "M1 = np.array([[0, 1, 0, 0],\n",
    "                [0, 1, 0, 0],\n",
    "                [0, 0, 1, 1],\n",
    "                [0, 0, 0, 0]], dtype=bool)\n",
    "M2 = np.array([[1, 0, 0],\n",
    "                [0, 1, 0],\n",
    "                [0, 0, 0],\n",
    "                [0, 0, 0]], dtype=bool)\n",
    "M = M1.dot(M2)\n",
    "np.array(M, dtype = int)"
   ]
  },
  {
   "cell_type": "code",
   "execution_count": null,
   "metadata": {},
   "outputs": [],
   "source": [
    "#63 tính lũy thừa của ma trận nhị phân M từ bậc 2 đến n\n",
    "import numpy as np\n",
    "M = np.array([[0, 1, 1, 0],\n",
    "            [0, 0, 0, 1],\n",
    "            [0, 1, 0, 0],\n",
    "            [0, 0, 0, 0]], dtype=bool)\n",
    "n = len (M)\n",
    "L = M.copy()\n",
    "for k in range(2, n+1):\n",
    "    L = M.dot(L)\n",
    "    print(k, np.array (L, dtype=int))"
   ]
  },
  {
   "cell_type": "code",
   "execution_count": null,
   "metadata": {},
   "outputs": [],
   "source": [
    "#64  tính tổng các lũy thừa của ma trận nhị phân M từ bậc 2 đến n và sau đó chuyển đổi kết quả thành một ma trận số nguyên\n",
    "import numpy as np\n",
    "M = np.array([[0, 1, 0, 1],\n",
    "            [0, 1, 0, 0],\n",
    "            [1, 0, 0, 0],\n",
    "            [0, 0, 1, 0]], dtype=bool)\n",
    "n= len(M)\n",
    "A= M.copy()\n",
    "L= M.copy()\n",
    "for k in range(2, n+1):\n",
    "    L= M.dot(L)\n",
    "    A +=L\n",
    "    print(k , np.array(L, dtype=int))\n",
    "\n",
    "np.array(A, dtype=int)"
   ]
  },
  {
   "cell_type": "code",
   "execution_count": null,
   "metadata": {},
   "outputs": [],
   "source": [
    "#65tính toán các đường đi từ một đỉnh đến một đỉnh khác trong đồ thị có trọng số không âm, sử dụng phương pháp Warshall\n",
    "import numpy as np\n",
    "W = np.array([[0, 1, 0, 1],\n",
    "            [0, 1, 0, 0],\n",
    "            [1, 0, 0, 0],\n",
    "            [0, 0, 1, 0]], dtype=bool)\n",
    "n = len (W)\n",
    "for k in range(n):\n",
    "    for i in range(n):\n",
    "        for j in range(n):\n",
    "            W[i, j] += W[i, k] * W[k, j]\n",
    "    print(k+1, np.array (W, dtype=int))"
   ]
  },
  {
   "cell_type": "code",
   "execution_count": null,
   "metadata": {},
   "outputs": [],
   "source": [
    "#66 giải phương trình đệ quy.\n",
    "\n",
    "from sympy import *\n",
    "\n",
    "n = symbols ('n')\n",
    "F = symbols ('F', cls=Function)\n",
    "rsolve(\n",
    "    -F(n) + F(n-1) + F(n-2), \n",
    "    F(n),\n",
    "    {F(0): 0, F(1): 1}\n",
    ")"
   ]
  },
  {
   "cell_type": "code",
   "execution_count": null,
   "metadata": {},
   "outputs": [],
   "source": [
    "a = 100\n",
    "for _ in range(3):\n",
    "    a = a + a * 5 / 100\n",
    "    print (a)"
   ]
  },
  {
   "cell_type": "code",
   "execution_count": null,
   "metadata": {},
   "outputs": [],
   "source": [
    "#68 giải phương trình đặc trưng đơn giản\n",
    "from sympy import *\n",
    "\n",
    "n = symbols ('n')\n",
    "a = symbols ('a', cls = Function)\n",
    "\n",
    "sol = rsolve(\n",
    "    a(n) - 1.05 * a(n-1),\n",
    "    a(n),\n",
    "    {a (0): 100}\n",
    ")\n",
    "sol"
   ]
  },
  {
   "cell_type": "code",
   "execution_count": null,
   "metadata": {},
   "outputs": [],
   "source": [
    "#69 k bt\n",
    "from sympy import *\n",
    "\n",
    "n, P, r, S = symbols ('n P r S')\n",
    "a = symbols ('a', cls = Function)\n",
    "sol = rsolve (\n",
    "    -a(n) + (1+r) * a(n-1) - P, \n",
    "    a(n), \n",
    "    {a(0): S}\n",
    ")\n",
    "sol\n",
    "\n",
    "sol.simplify()\n",
    "\n",
    "sol_P = solve (sol, P)\n",
    "sol_P\n",
    "\n",
    "sol_P [0]\n",
    "\n",
    "sol_P[0].subs({S: 100, r: 0.01, n:12})"
   ]
  },
  {
   "cell_type": "code",
   "execution_count": null,
   "metadata": {},
   "outputs": [],
   "source": [
    "#ma70 \n",
    "def summands (n):\n",
    "    if n== 1:\n",
    "        return [[1]]\n",
    "    S = []\n",
    "    for s in summands(n-1):\n",
    "        s[0] += 1\n",
    "        S.append(s)\n",
    "    for s in summands (n-1):\n",
    "        s = [1] + s\n",
    "        S.append(s)\n",
    "    return S\n",
    "\n",
    "summands (3)"
   ]
  },
  {
   "cell_type": "code",
   "execution_count": null,
   "metadata": {},
   "outputs": [],
   "source": [
    "def BubleSort(x):\n",
    "    n= len(x)\n",
    "    if n== 1:\n",
    "        return x\n",
    "    for i in range(n-1, 0, -1):\n",
    "        if x[i] < x[i-1]:\n",
    "            x[i], x[i-1] = x[i-1], x[i]\n",
    "    return [x[0]] + BubleSort (x [1:])\n",
    "BubleSort([7, 9, 2, 5, 8])"
   ]
  },
  {
   "cell_type": "code",
   "execution_count": null,
   "metadata": {},
   "outputs": [],
   "source": [
    "#72 tháp hà nội\n",
    "def hanoi_tower (n, A, B, C):\n",
    "    if n == 1:\n",
    "        return [[1, A, B]]\n",
    "    return hanoi_tower (n-1, A, C, B) + [[n, A, B]] + hanoi_tower(n-1, C, B, A)\n",
    "hanoi_tower (3, 'A', 'B', 'C')"
   ]
  },
  {
   "cell_type": "code",
   "execution_count": null,
   "metadata": {},
   "outputs": [],
   "source": [
    "#73  tất cả các chuỗi nhị phân có độ dài n với các ký tự từ 0 đến 3.\n",
    "def quaternary_strs (n):\n",
    "    if n == 1:\n",
    "        return [[i] for i in range (4)]\n",
    "    S = []\n",
    "    for i in range (4):\n",
    "        for s in quaternary_strs(n-1): \n",
    "            s = [i] + s\n",
    "            S.append(s)\n",
    "    return S\n",
    "\n",
    "quaternary_strs (2)\n",
    "\n",
    "\n",
    "#được viết để tạo ra tất cả các chuỗi có độ dài n với các ký tự từ 0 đến 3, nhưng chỉ chứa số 1 ở vị trí chẵn\n",
    "def quaternary_strs_1s_even(n):\n",
    "    if n == 1:\n",
    "        return [[0], [2], [3]]\n",
    "    S = []\n",
    "    for s in quaternary_strs(n-1):\n",
    "        if s not in quaternary_strs_1s_even(n-1): \n",
    "            s = [1] + s\n",
    "            S.append(s)\n",
    "    for i in [0, 2, 3]:\n",
    "        for s in quaternary_strs_1s_even(n-1): \n",
    "            s = [i] + s\n",
    "            S.append(s)\n",
    "    return S\n",
    "quaternary_strs_1s_even(2)"
   ]
  },
  {
   "cell_type": "code",
   "execution_count": null,
   "metadata": {},
   "outputs": [],
   "source": [
    "#74\n",
    "from sympy import *\n",
    "\n",
    "n = symbols ('n')\n",
    "a = symbols ('a', cls = Function)\n",
    "rsolve( \n",
    "    - a(n) + 3*a(n - 2) - 2*a(n - 3),\n",
    "    a(n)\n",
    ")\n",
    "rsolve( \n",
    "    - a(n) + 3*a(n - 2) - 2*a(n - 3) , \n",
    "    a(n), \n",
    "    {a(0) : 5, a(1) : - 1, a(2) : 2}\n",
    ")"
   ]
  },
  {
   "cell_type": "code",
   "execution_count": null,
   "metadata": {},
   "outputs": [],
   "source": [
    "#75 khai triển biểu thức mũ rút gọn blas\n",
    "from sympy import *\n",
    "\n",
    "x = symbols ('x')\n",
    "P= x**3 - 3*x + 2\n",
    "P.factor()\n",
    "\n",
    "C1, C2, C3 = symbols ('C1 C2 C3')\n",
    "ans = C1 + C2*n + (-2)**n * C3\n",
    "\n",
    "[ans.subs(n, i) for i in [0, 1, 2]]\n",
    "\n",
    "eqns = [ans.subs(n, i)- a for i, a in zip([0, 1, 2],[5,-1,2])] \n",
    "solve (eqns)"
   ]
  },
  {
   "cell_type": "code",
   "execution_count": null,
   "metadata": {},
   "outputs": [],
   "source": [
    "#76 thực hiện các phép tính liên quan đến phương trình đặc trưng và số phức\n",
    "from sympy import *\n",
    "\n",
    "n = symbols ('n', integer=True)\n",
    "a = symbols ('a', cls= Function)\n",
    "ans = rsolve (\n",
    "    a (n+1) -2*a(n) + 2*a(n-1),\n",
    "    a(n),\n",
    "    {a(0): 1, a(1): 2}\n",
    ")\n",
    "ans\n",
    "\n",
    "polar = lambda z: abs(z) *E**(I*arg(z))\n",
    "\n",
    "print (ans)\n",
    "\n",
    "ans = (Rational (1, 2) + I/2) * polar (1- I)**n + (Rational (1, 2)- I/2) * polar (1 + I)**n\n",
    "ans\n",
    "\n",
    "re (ans)"
   ]
  },
  {
   "cell_type": "code",
   "execution_count": null,
   "metadata": {},
   "outputs": [],
   "source": [
    "#77 \n",
    "from sympy import *\n",
    "\n",
    "x = symbols ('x')\n",
    "P = x**2 - 2*x + 2\n",
    "solve (P)\n",
    "\n",
    "x = 1+ I\n",
    "r = abs(x)\n",
    "phi= arg(x)\n",
    "C1, C2 = symbols ('C1 C2')\n",
    "ans = r**n* (C1 * cos(n*phi) + C2 * sin(n*phi))\n",
    "\n",
    "[ans.subs(n, i).simplify() for i in [0, 1]]\n",
    "\n",
    "solve([ans.subs(n, i).simplify()- a for i, a in zip([0 ,1], [1, 2])])"
   ]
  },
  {
   "cell_type": "code",
   "execution_count": null,
   "metadata": {},
   "outputs": [],
   "source": [
    "#78 được viết để tạo ra tất cả các tập con của tập {1, 2, ..., n} mà không chứa hai phần tử kề nhau. \n",
    "def subsets_with_condition(n):\n",
    "    if n == 1:\n",
    "        return [[], [1]]\n",
    "    if n == 2:\n",
    "        return [[], [1], [2]]\n",
    "    S = []\n",
    "    for s in subsets_with_condition(n-1):\n",
    "        S.append(s)\n",
    "    for s in subsets_with_condition(n-2):\n",
    "        s.append(n) \n",
    "        S.append(s)\n",
    "    return S\n",
    "subsets_with_condition (3)   "
   ]
  },
  {
   "cell_type": "code",
   "execution_count": null,
   "metadata": {},
   "outputs": [],
   "source": [
    "def binary_strs(n):\n",
    "    if n == 1:\n",
    "        return ['0', '1']\n",
    "    if n == 2:\n",
    "        return ['01', '10', '11']\n",
    "    S = []\n",
    "    for s in binary_strs (n-2):\n",
    "        s='01' + s\n",
    "        S.append(s)\n",
    "    for s in binary_strs(n-1):\n",
    "        s = '1' + s\n",
    "        S.append(s)\n",
    "    return S\n",
    "\n",
    "binary_strs (3)"
   ]
  },
  {
   "cell_type": "code",
   "execution_count": null,
   "metadata": {},
   "outputs": [],
   "source": [
    "#mã 80\n",
    "from sympy import *\n",
    "\n",
    "n = symbols ('n')\n",
    "a = symbols ('a', cls = Function)\n",
    "ans = rsolve (\n",
    "    a(n) - 2*a(n-2),\n",
    "    a(n),\n",
    "    {a(1): 1, a (2): 2}\n",
    ")\n",
    "ans\n",
    "\n",
    "k = symbols ('k', integer=True)\n",
    "\n",
    "ans.subs(n, 2*k).simplify()\n",
    "ans.subs(n, 2*k+1).simplify()"
   ]
  },
  {
   "cell_type": "code",
   "execution_count": null,
   "metadata": {},
   "outputs": [],
   "source": [
    "#81  tạo ra tất cả các dãy số nguyên dương có tổng bằng n, trong đó các phần tử được phân bố một cách đối xứng.\n",
    "def symmetric_summands(n):\n",
    "    if n == 1:\n",
    "        return [[1]]\n",
    "    if n == 2:\n",
    "        return [[2], [1, 1]]\n",
    "    S = []\n",
    "    for s in symmetric_summands (n-2):\n",
    "        s [0] += 1\n",
    "        s[-1] += 1\n",
    "        S.append(s)\n",
    "    for s in symmetric_summands (n-2):\n",
    "        s = [1] + s + [1]\n",
    "        S.append(s)\n",
    "    return S\n",
    "\n",
    "symmetric_summands (4)"
   ]
  },
  {
   "cell_type": "code",
   "execution_count": null,
   "metadata": {},
   "outputs": [],
   "source": []
  }
 ],
 "metadata": {
  "kernelspec": {
   "display_name": "Python 3",
   "language": "python",
   "name": "python3"
  },
  "language_info": {
   "codemirror_mode": {
    "name": "ipython",
    "version": 3
   },
   "file_extension": ".py",
   "mimetype": "text/x-python",
   "name": "python",
   "nbconvert_exporter": "python",
   "pygments_lexer": "ipython3",
   "version": "3.12.1"
  }
 },
 "nbformat": 4,
 "nbformat_minor": 2
}
